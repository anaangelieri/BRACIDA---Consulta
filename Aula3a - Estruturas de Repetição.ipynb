{
 "cells": [
  {
   "cell_type": "markdown",
   "metadata": {},
   "source": [
    "### Estruturas de Repetição"
   ]
  },
  {
   "cell_type": "markdown",
   "metadata": {},
   "source": [
    "As estruturas de repetição são recursos das linguagens de programação responsáveis por executar um bloco de código repetidamente através de determinadas condições especificas.\n",
    "O Python contém dois tipos de estruturas de repetição: <b>for e while.</b>"
   ]
  },
  {
   "cell_type": "markdown",
   "metadata": {},
   "source": [
    "### O Laço for"
   ]
  },
  {
   "cell_type": "markdown",
   "metadata": {},
   "source": [
    "O laço for é utilizado para percorrer sobre uma sequência de dados um conjunto de instruções em cada item.\n",
    "Como você já sabe, o Python utiliza indentação para separar blocos de código: nos loops utilizando o comando <b>for</b> não é diferente."
   ]
  },
  {
   "cell_type": "markdown",
   "metadata": {},
   "source": [
    "#### Sua sintaxe básica é:"
   ]
  },
  {
   "cell_type": "markdown",
   "metadata": {},
   "source": [
    "<b>for <nome variável> in <iterável></b>"
   ]
  },
  {
   "cell_type": "markdown",
   "metadata": {},
   "source": [
    "Onde:<br>\n",
    "<b><nome variável></b> é o nome da variável que vai receber os elemento de <b><iterável></b>.<br>\n",
    "<iterável> é o container de dados sobre o qual vamos percorrer, podendo ser: uma lista, uma tupla, uma string, um dicionário, entre outros."
   ]
  },
  {
   "cell_type": "markdown",
   "metadata": {},
   "source": [
    "Existe outra forma de se utilizar o <b>for</b> que é utilizando a estrutura for/else.\n",
    "Adicionar o comando <b>else</b> ao final do comando <b>for</b> nos possibilita executar um bloco de código após o iterável ter sido completamente percorrido."
   ]
  },
  {
   "cell_type": "markdown",
   "metadata": {},
   "source": [
    "### O Laço While"
   ]
  },
  {
   "cell_type": "markdown",
   "metadata": {},
   "source": [
    "O <b>while</b> é uma estrutura de repetição utilizada quando queremos que determinado bloco de código seja executado ENQUANTO (do inglês while) determinada condição for satisfeita.\n",
    "Em outras palavras: só saia da estrutura de repetição quando a condição não for mais satisfeita."
   ]
  },
  {
   "cell_type": "markdown",
   "metadata": {},
   "source": [
    "Sua sintaxe básica é:"
   ]
  },
  {
   "cell_type": "markdown",
   "metadata": {},
   "source": [
    "<b>while <condição><br>\n",
    "    # bloco a ser executado</b>"
   ]
  },
  {
   "cell_type": "markdown",
   "metadata": {},
   "source": [
    "Aqui, <b><condição></b> é uma expressão que pode ser reduzida à True ou False, podendo ser:"
   ]
  },
  {
   "cell_type": "markdown",
   "metadata": {},
   "source": [
    "A verificação do valor de uma variável; <br>\n",
    "Determinada estrutura de dados alcançar um tamanho; <br>\n",
    "O retorno de uma função se igualar a determinado valor; <br>\n",
    "Algum valor externo ser alterado (por exemplo um valor armazenado em Banco de Dados)."
   ]
  },
  {
   "cell_type": "markdown",
   "metadata": {},
   "source": [
    "### A função range()"
   ]
  },
  {
   "cell_type": "markdown",
   "metadata": {},
   "source": [
    "Essa função é de grande ajuda quando o tema é repetição, laços, <b>for</b> etc. <br>\n",
    "Ela permite especificar o inicio de um intervalo sequencial, o passo (ou pulo) e valor final.<br>\n",
    "Com isso, o Python nos retorna uma sequência de números para que possamos iterar!<br>\n",
    "Sua sintaxe pode ter as seguintes três formas, sendo que seu único parâmetro obrigatório é o <b>fim</b>:<br>"
   ]
  },
  {
   "cell_type": "markdown",
   "metadata": {},
   "source": [
    "<b>range(fim)<br>               # range(stop) <br><br>\n",
    "range(inicio, fim)<br>          # range(start, stop)<br><br>\n",
    "range(inicio, fim, passo)<br>   # range(start, stop, step)</b><br>"
   ]
  },
  {
   "cell_type": "markdown",
   "metadata": {},
   "source": [
    "### Exemplo 1 - Laço for"
   ]
  },
  {
   "cell_type": "markdown",
   "metadata": {},
   "source": [
    "Faça um programa que receba dois numeros. Calcule e mostre: <br>\n",
    "a) Caso os números formem um intervalo crescente, calcule a média dos\n",
    "   numeros do intervalo, incluindo os numeros digitados;<br>\n",
    "b) Caso os números formem um intervalo decrescente, calcule a soma\n",
    "   dos numeros pares, incluindo os numeros digitados;<br>\n",
    "c) Se os números forem iguais, mostre uma mensagem informando essa condição."
   ]
  },
  {
   "cell_type": "code",
   "execution_count": 3,
   "metadata": {},
   "outputs": [
    {
     "name": "stdout",
     "output_type": "stream",
     "text": [
      "Entre com o 1º número: 5\n",
      "\n",
      "Entre com o 2º número: 1\n",
      "\n",
      "Soma dos Números Pares = 6\n",
      "\n",
      "Fim do Programa!\n"
     ]
    }
   ],
   "source": [
    "soma = 0\n",
    "qtd = 0\n",
    "soma_par=0\n",
    "num1 = int(input(\"Entre com o 1º número: \"))\n",
    "num2 = int(input(\"\\nEntre com o 2º número: \"))\n",
    "if (num1 == num2):\n",
    "    print(\"Números iguais! Os números deverão ter valores diferentes!\")\n",
    "elif (num1 < num2):\n",
    "    for n in range(num1, num2 + 1):\n",
    "        soma = soma + n\n",
    "        qtd = qtd + 1\n",
    "    media = soma / qtd\n",
    "    print(f'Média = {media:.2f}')\n",
    "elif (num1 > num2):\n",
    "    for n in range(num2, num1 + 1):\n",
    "        if (n % 2 == 0):\n",
    "            soma_par = soma_par + n\n",
    "    print(f'\\nSoma dos Números Pares = {soma_par:.0f}')\n",
    "print(\"\\nFim do Programa!\")\n",
    "    \n",
    "        "
   ]
  },
  {
   "cell_type": "markdown",
   "metadata": {},
   "source": [
    "### Exemplo 2 - Laço for"
   ]
  },
  {
   "cell_type": "markdown",
   "metadata": {},
   "source": [
    "Uma empresa contratou 5 funcionarios temporários. De acordo com o valor das vendas mensais, os funcionários adquirem pontos que determinarão seus salários ao final de cada mês. Sabe-se que estes funcionários trabalharão de novembro a janeiro do ano subsequente:<br>\n",
    "Faça um programa que:<br>\n",
    "a) Leia as pontuações nos três meses de cada funcionário;<br>\n",
    "b) Calcule e mostre a pontuação geral de cada funcionário nos três meses;<br>\n",
    "c) Calcule e mostre a média das pontuações de cada funcionários nos três meses;<br>\n",
    "d) Determine e mostre a maior pontuação atingida entre todos os funcionários nos três meses.<br>"
   ]
  },
  {
   "cell_type": "code",
   "execution_count": 5,
   "metadata": {},
   "outputs": [
    {
     "name": "stdout",
     "output_type": "stream",
     "text": [
      "\n",
      "Entre com a quantidade de pontos do funcionário 1 no mês 1\n",
      "\n",
      "Quantidade de Pontos: 10\n",
      "\n",
      "Entre com a quantidade de pontos do funcionário 1 no mês 2\n",
      "\n",
      "Quantidade de Pontos: 12\n",
      "\n",
      "Entre com a quantidade de pontos do funcionário 1 no mês 3\n",
      "\n",
      "Quantidade de Pontos: 13\n",
      "Pontuação Total do Funcionário 1 = 35\n",
      "Media de Pontos do Funcionário 1 = 11.67\n",
      "\n",
      "Entre com a quantidade de pontos do funcionário 2 no mês 1\n",
      "\n",
      "Quantidade de Pontos: 15\n",
      "\n",
      "Entre com a quantidade de pontos do funcionário 2 no mês 2\n",
      "\n",
      "Quantidade de Pontos: 16\n",
      "\n",
      "Entre com a quantidade de pontos do funcionário 2 no mês 3\n",
      "\n",
      "Quantidade de Pontos: 17\n",
      "Pontuação Total do Funcionário 2 = 48\n",
      "Media de Pontos do Funcionário 2 = 16.00\n",
      "\n",
      "Entre com a quantidade de pontos do funcionário 3 no mês 1\n",
      "\n",
      "Quantidade de Pontos: 15\n",
      "\n",
      "Entre com a quantidade de pontos do funcionário 3 no mês 2\n",
      "\n",
      "Quantidade de Pontos: 16\n",
      "\n",
      "Entre com a quantidade de pontos do funcionário 3 no mês 3\n",
      "\n",
      "Quantidade de Pontos: 17\n",
      "Pontuação Total do Funcionário 3 = 48\n",
      "Media de Pontos do Funcionário 3 = 16.00\n",
      "\n",
      "Entre com a quantidade de pontos do funcionário 4 no mês 1\n",
      "\n",
      "Quantidade de Pontos: 2\n",
      "\n",
      "Entre com a quantidade de pontos do funcionário 4 no mês 2\n",
      "\n",
      "Quantidade de Pontos: 3\n",
      "\n",
      "Entre com a quantidade de pontos do funcionário 4 no mês 3\n",
      "\n",
      "Quantidade de Pontos: 4\n",
      "Pontuação Total do Funcionário 4 = 9\n",
      "Media de Pontos do Funcionário 4 = 3.00\n",
      "\n",
      "Entre com a quantidade de pontos do funcionário 5 no mês 1\n",
      "\n",
      "Quantidade de Pontos: 25\n",
      "\n",
      "Entre com a quantidade de pontos do funcionário 5 no mês 2\n",
      "\n",
      "Quantidade de Pontos: 30\n",
      "\n",
      "Entre com a quantidade de pontos do funcionário 5 no mês 3\n",
      "\n",
      "Quantidade de Pontos: 2\n",
      "Pontuação Total do Funcionário 5 = 57\n",
      "Media de Pontos do Funcionário 5 = 19.00\n",
      "\n",
      "Maior Pontuação = 30\n",
      "\n",
      "Funcionário que obteve o maior número de pontos no mês = 5\n",
      "\n",
      "Fim do Programa!\n"
     ]
    }
   ],
   "source": [
    "funcionario=0\n",
    "pontos=0\n",
    "pontosTotais=0\n",
    "maiorPontos=0\n",
    "# Contagem do número de funcionários\n",
    "for contFunc in range(1, 6):\n",
    "    pontosTotais = 0\n",
    "    # Contagem do número de meses\n",
    "    for contMes in range(1, 4):\n",
    "        print(f'\\nEntre com a quantidade de pontos do funcionário {contFunc} no mês {contMes}')\n",
    "        pontos = int(input(\"\\nQuantidade de Pontos: \"))\n",
    "        pontosTotais += pontos\n",
    "        # pontosTotais = pontosTotais + pontos\n",
    "        if pontos > maiorPontos:\n",
    "            maiorPontos = pontos\n",
    "            funcionario = contFunc\n",
    "    print(f'Pontuação Total do Funcionário {contFunc} = {pontosTotais}')\n",
    "    mediaPontos = pontosTotais / 3\n",
    "    print(f'Media de Pontos do Funcionário {contFunc} = {mediaPontos:,.2f}')\n",
    "print(f'\\nMaior Pontuação = {maiorPontos}')\n",
    "print(f'\\nFuncionário que obteve o maior número de pontos no mês = {funcionario}')\n",
    "print(\"\\nFim do Programa!\")\n",
    "            "
   ]
  },
  {
   "cell_type": "markdown",
   "metadata": {},
   "source": [
    "### Exemplo 3 - Laço while"
   ]
  },
  {
   "cell_type": "markdown",
   "metadata": {},
   "source": [
    "Um cinema cobra preços diferentes para os ingressos de acordo com a idade de uma pessoa. <br>\n",
    "Se uma pessoa tiver menos de 5 anos de idade, o ingresso será gratuito, se tiver entre 5 e 12 anos, o ingresso custará 18 reais,\n",
    "se tiver acima de 12 anos, custará 36 reais.<br>\n",
    "Faça um programa com um laço que pergunte a idade dos usuários, e informe os preços do ingresso e o valor total pago.<br>\n",
    "O programa será interrompido quando a idade digitada for zero.<br>"
   ]
  },
  {
   "cell_type": "code",
   "execution_count": 3,
   "metadata": {},
   "outputs": [
    {
     "name": "stdout",
     "output_type": "stream",
     "text": [
      "Entre com a Idade: 15\n",
      "\n",
      "Valor do Ingresso = R$ 36.00\n",
      "\n",
      "Quantos ingressos deseja comprar?: 2\n",
      "\n",
      "O total a ser pago = R$ 72.00\n",
      "\n",
      "Entre com a Idade ou 0 para sair do programa: 8\n",
      "\n",
      "Valor do Ingresso = R$ 18.00\n",
      "\n",
      "Quantos ingressos deseja comprar?: 2\n",
      "\n",
      "O total a ser pago = R$ 36.00\n",
      "\n",
      "Entre com a Idade ou 0 para sair do programa: 0\n",
      "Fim do Programa!\n"
     ]
    }
   ],
   "source": [
    "valor = 0\n",
    "idade = int(input('Entre com a Idade: '))\n",
    "while (idade != 0):\n",
    "    if (idade < 5):\n",
    "        print('\\nEntrada Gratuita!')\n",
    "    elif (idade >= 5 and idade <=12):\n",
    "        valor = 18.0\n",
    "    else:\n",
    "        valor = 36.0\n",
    "    print(f'\\nValor do Ingresso = R$ {valor:.2f}')\n",
    "    qtd = int(input('\\nQuantos ingressos deseja comprar?: '))\n",
    "    total = qtd * valor\n",
    "    print(f'\\nO total a ser pago = R$ {total:,.2f}')\n",
    "    idade = int(input('\\nEntre com a Idade ou 0 para sair do programa: '))\n",
    "print(\"Fim do Programa!\")"
   ]
  },
  {
   "cell_type": "markdown",
   "metadata": {},
   "source": [
    "### Exemplo 4 - Laço while"
   ]
  },
  {
   "cell_type": "markdown",
   "metadata": {},
   "source": [
    "Um funcionário de uma empresa recebe aumento salarial anualmente. <br>\n",
    "Sabe-se que:<br>\n",
    "a) Esse funcionário foi contratado em 2020, com um determinado salário inicial;<br>\n",
    "b) Em 2021 recebeu aumento de 0,5% sobre o salário inicial;<br>\n",
    "c) A partir de 2022 (inclusive), os aumentos salariais sempre corresponderam a 50% a mais do percentual anterior. <br>\n",
    "Faça um programa que determine o salário atual desse funcionário.<br>"
   ]
  },
  {
   "cell_type": "code",
   "execution_count": 6,
   "metadata": {},
   "outputs": [
    {
     "name": "stdout",
     "output_type": "stream",
     "text": [
      "\n",
      "Entre com o salário inicial do funcionário em 2020: 6000\n",
      "\n",
      "Entre com o ano atual: 2030\n",
      "\n",
      "Salário Atual = R$ 10,259.03 em 2030\n",
      "\n",
      "Fim do Programa!\n"
     ]
    }
   ],
   "source": [
    "salario = float(input(\"\\nEntre com o salário inicial do funcionário em 2020: \"))\n",
    "percentual = 0.5/100\n",
    "# Cálculo do novo salário em 2021\n",
    "novoSal = salario + salario * percentual\n",
    "# Aumentos a partir de 2022\n",
    "anoAtual = int(input('\\nEntre com o ano atual: '))\n",
    "ano = 2022\n",
    "while (ano <= anoAtual):\n",
    "    percentual = percentual * 1.5\n",
    "    novoSal = novoSal + novoSal * percentual\n",
    "    ano = ano + 1\n",
    "else:\n",
    "    print(f'\\nSalário Atual = R$ {novoSal:,.2f} em {anoAtual}')\n",
    "print('\\nFim do Programa!')"
   ]
  },
  {
   "cell_type": "markdown",
   "metadata": {},
   "source": [
    "### Exemplo 5 - Laço while"
   ]
  },
  {
   "cell_type": "markdown",
   "metadata": {},
   "source": [
    "Faça um programa que receba um numero inteiro maior que 1 e verifique se o numero fornecido é primo ou não. <br>\n",
    "Se o numero for primo, mostre o numero e a mensagem \"Numero Primo\", caso contrário, \"Número não é Primo!\". <br>\n",
    "Obs: Um numero é primo quando é divisivel apenas por um e por ele mesmo.<br>"
   ]
  },
  {
   "cell_type": "code",
   "execution_count": 12,
   "metadata": {},
   "outputs": [
    {
     "name": "stdout",
     "output_type": "stream",
     "text": [
      "\n",
      "Entre com um número positivo maior que um: 537\n",
      "\n",
      "O número 537 não é primo porque possui 4 divisores\n",
      "\n",
      "Fim do Programa!\n"
     ]
    }
   ],
   "source": [
    "num = int(input('\\nEntre com um número positivo maior que um: '))\n",
    "# n é a variável que será dividida pela variável num e irá\n",
    "# iterar com ela.\n",
    "n = 1\n",
    "# Se qtde for igual a dois, o número testado é primo\n",
    "qtde = 0\n",
    "while (n <= num):\n",
    "    if (num % n == 0):\n",
    "        qtde = qtde + 1\n",
    "    n = n + 1\n",
    "if (qtde > 2):\n",
    "    print(f'\\nO número {num} não é primo porque possui {qtde} divisores')\n",
    "else:\n",
    "    print(f'\\nO número {num} é Primo porque possui {qtde} divisores')\n",
    "print('\\nFim do Programa!')"
   ]
  },
  {
   "cell_type": "markdown",
   "metadata": {},
   "source": [
    "### Exemplo 6 - Laço while"
   ]
  },
  {
   "cell_type": "markdown",
   "metadata": {},
   "source": [
    "Escreva um programa que pergunte o depósito inicial e a taxa de juros de uma poupança. <br>\n",
    "Exiba os valores mês a mês para os 24 primeiros meses.<br>\n",
    "Escreva o total ganho com juros no período.<br>"
   ]
  },
  {
   "cell_type": "code",
   "execution_count": 16,
   "metadata": {},
   "outputs": [
    {
     "name": "stdout",
     "output_type": "stream",
     "text": [
      "\n",
      "Quanto é o depósito Inicial: 3500\n",
      "Taxa de juros mensais '%': 0.6\n",
      "Saldo no mês 1 é de R$  3521.00.\n",
      "Saldo no mês 2 é de R$  3542.13.\n",
      "Saldo no mês 3 é de R$  3563.38.\n",
      "Saldo no mês 4 é de R$  3584.76.\n",
      "Saldo no mês 5 é de R$  3606.27.\n",
      "Saldo no mês 6 é de R$  3627.91.\n",
      "Saldo no mês 7 é de R$  3649.67.\n",
      "Saldo no mês 8 é de R$  3671.57.\n",
      "Saldo no mês 9 é de R$  3693.60.\n",
      "Saldo no mês 10 é de R$  3715.76.\n",
      "Saldo no mês 11 é de R$  3738.06.\n",
      "Saldo no mês 12 é de R$  3760.48.\n",
      "Saldo no mês 13 é de R$  3783.05.\n",
      "Saldo no mês 14 é de R$  3805.75.\n",
      "Saldo no mês 15 é de R$  3828.58.\n",
      "Saldo no mês 16 é de R$  3851.55.\n",
      "Saldo no mês 17 é de R$  3874.66.\n",
      "Saldo no mês 18 é de R$  3897.91.\n",
      "Saldo no mês 19 é de R$  3921.30.\n",
      "Saldo no mês 20 é de R$  3944.82.\n",
      "Saldo no mês 21 é de R$  3968.49.\n",
      "Saldo no mês 22 é de R$  3992.30.\n",
      "Saldo no mês 23 é de R$  4016.26.\n",
      "Saldo no mês 24 é de R$  4040.36.\n",
      "\n",
      "O ganho obtido com os juros foram de R$   540.36.\n"
     ]
    }
   ],
   "source": [
    "deposito = float(input('\\nQuanto é o depósito Inicial: '))\n",
    "taxa = float(input(\"Taxa de juros mensais '%': \"))\n",
    "mes = 1\n",
    "saldo = deposito\n",
    "while (mes <= 24):\n",
    "    saldo = saldo + (saldo * taxa / 100)\n",
    "    print(f'Saldo no mês {mes} é de R$ {saldo:8.2f}.')\n",
    "    mes = mes + 1\n",
    "print(f'\\nO ganho obtido com os juros foram de R$ {saldo - deposito:8.2f}.')"
   ]
  },
  {
   "cell_type": "markdown",
   "metadata": {},
   "source": [
    "### Consistência de Dados"
   ]
  },
  {
   "cell_type": "markdown",
   "metadata": {},
   "source": [
    "Este programa efetua a entrada de um valor numérico e apresenta-o somado a 5. <br>\n",
    "Se o dado for diferente de um valor inteiro ou real, o programa deve emitir a entrada de advertência:<br>\n",
    "\"Erro! Entre apenas com um valor numérico!\"<br>\n",
    "A função <b>is.digit</b> verifica se o caractere informado é um digito numérico. <br>\n",
    "Caso seja um dígito diferente a condição continua verdadeira porque é um dígito, mesmo sendo alfabético.<br> \n",
    "Neste caso, o programa retorna ao início onde um novo valor numérico é solicitado.<br>\n",
    "Se o valor for numérico então o programa é interrompido e o valor é convertido para float para ser exibido na tela com o acrescimo de 5."
   ]
  },
  {
   "cell_type": "markdown",
   "metadata": {},
   "source": [
    "#### Exemplo 7"
   ]
  },
  {
   "cell_type": "markdown",
   "metadata": {},
   "source": [
    "Este programa solicita a entrada de um valor numérico. Caso seja um caractere, irá vetar a entrada deste caractere e retornar ao início para solictar a entrada de uma valor numérico"
   ]
  },
  {
   "cell_type": "code",
   "execution_count": 20,
   "metadata": {},
   "outputs": [
    {
     "name": "stdout",
     "output_type": "stream",
     "text": [
      "\n",
      "Entre com um valor numérico: a\n",
      "Erro! Entre apenas com valor numérico!\n",
      "\n",
      "Entre com um valor numérico: x\n",
      "Erro! Entre apenas com valor numérico!\n",
      "\n",
      "Entre com um valor numérico: 3'\n",
      "Erro! Entre apenas com valor numérico!\n",
      "\n",
      "Entre com um valor numérico: '3\n",
      "Erro! Entre apenas com valor numérico!\n",
      "\n",
      "Entre com um valor numérico: 9!\n",
      "Erro! Entre apenas com valor numérico!\n",
      "\n",
      "Entre com um valor numérico: 8\n",
      "\n",
      "Resultado: 13.00\n"
     ]
    }
   ],
   "source": [
    "while (True):\n",
    "    n = input('\\nEntre com um valor numérico: ')\n",
    "    if (n.isdigit()):\n",
    "        break\n",
    "    print('Erro! Entre apenas com valor numérico!')\n",
    "print(f'\\nResultado: %.2f' %(float(n) + 5))"
   ]
  },
  {
   "cell_type": "markdown",
   "metadata": {},
   "source": [
    "#### Exemplo 8"
   ]
  },
  {
   "cell_type": "markdown",
   "metadata": {},
   "source": [
    "Escreva um programa que calcule o tempo de viagem de um carro para percorrer uma certa distância a uma certa velocidade média esperada pela viagem. Depois, converta o tempo de viagem em horas, minutos e segundos. Ao final, o programa deve perguntar se o usuário deseja efetuar novos cálculos. Caso positivo, então o programa retornará ao início, senão, será encerrado."
   ]
  },
  {
   "cell_type": "code",
   "execution_count": 21,
   "metadata": {},
   "outputs": [
    {
     "name": "stdout",
     "output_type": "stream",
     "text": [
      "\n",
      "Digite a distância a ser percorrida (km): 380\n",
      "\n",
      "Digite a velocidade média (km/h): 85\n",
      "\n",
      "Tempo de viagem estimado: 4 horas, 28 minutos e 14 segundos.\n",
      "\n",
      "Deseja realizar um novo cálculo (S/N)s\n",
      "\n",
      "Digite a distância a ser percorrida (km): 600\n",
      "\n",
      "Digite a velocidade média (km/h): 80\n",
      "\n",
      "Tempo de viagem estimado: 7 horas, 30 minutos e 0 segundos.\n",
      "\n",
      "Deseja realizar um novo cálculo (S/N)n\n",
      "\n",
      "Fim do Programa!\n"
     ]
    }
   ],
   "source": [
    "resp = 's'\n",
    "while (resp == 'S' or resp == 's'):\n",
    "    distancia = float(input('\\nDigite a distância a ser percorrida (km): '))\n",
    "    # 380 km\n",
    "    velocidade = float(input('\\nDigite a velocidade média (km/h): '))\n",
    "    # 85 km/h\n",
    "    tempo_total_horas = distancia / velocidade\n",
    "    # 4.47\n",
    "    horas = (int)(tempo_total_horas)\n",
    "    # horas = 4\n",
    "    minutos = (int)((tempo_total_horas - horas) * 60)\n",
    "    # minutos = (4.47 - 4 * 60) = 0.47 * 60 = (int)28.2 = 28\n",
    "    segundos = (int)((((tempo_total_horas - horas) * 60) - minutos) * 60)\n",
    "    print(f'\\nTempo de viagem estimado: {horas} horas, {minutos} minutos e {segundos} segundos.')\n",
    "    resp = input('\\nDeseja realizar um novo cálculo (S/N)')\n",
    "else:\n",
    "    print('\\nFim do Programa!')\n",
    "    \n",
    "    "
   ]
  },
  {
   "cell_type": "markdown",
   "metadata": {},
   "source": [
    "### Muito Obrigado!¶\n",
    "### Fim"
   ]
  }
 ],
 "metadata": {
  "kernelspec": {
   "display_name": "Python 3 (ipykernel)",
   "language": "python",
   "name": "python3"
  },
  "language_info": {
   "codemirror_mode": {
    "name": "ipython",
    "version": 3
   },
   "file_extension": ".py",
   "mimetype": "text/x-python",
   "name": "python",
   "nbconvert_exporter": "python",
   "pygments_lexer": "ipython3",
   "version": "3.9.13"
  }
 },
 "nbformat": 4,
 "nbformat_minor": 4
}
